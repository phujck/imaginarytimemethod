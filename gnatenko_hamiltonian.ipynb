{
 "cells": [
  {
   "cell_type": "code",
   "execution_count": 1,
   "id": "9bed3816",
   "metadata": {},
   "outputs": [],
   "source": [
    "import numpy as np\n",
    "from qiskit import QuantumCircuit, QuantumRegister, ClassicalRegister, AncillaRegister\n",
    "from qiskit import Aer\n",
    "from qiskit.opflow import X, Z, I, MatrixEvolution, Y\n",
    "from qiskit.quantum_info.operators import Operator, Pauli\n",
    "from qiskit.circuit import Parameter\n",
    "from qiskit import transpile\n",
    "from scipy import linalg\n",
    "from scipy.special import binom\n",
    "import matplotlib.pyplot as plt\n",
    "from qutip import *\n",
    "import itertools as it\n",
    "import copy\n",
    "import stomp_functions as stf\n",
    "from qiskit.quantum_info import random_clifford\n",
    "import time\n",
    "from qiskit.providers.fake_provider import FakeBelem\n",
    "from qiskit.circuit.library import PauliEvolutionGate"
   ]
  },
  {
   "cell_type": "code",
   "execution_count": 2,
   "id": "792cd806",
   "metadata": {},
   "outputs": [],
   "source": [
    "# Set font size of plot elements\n",
    "SMALL_SIZE = 12\n",
    "MEDIUM_SIZE = 14\n",
    "BIGGER_SIZE = 18\n",
    "\n",
    "plt.rc('font', size=SMALL_SIZE)          # controls default text sizes\n",
    "plt.rc('axes', titlesize=SMALL_SIZE)     # fontsize of the axes title\n",
    "plt.rc('axes', labelsize=MEDIUM_SIZE)    # fontsize of the x and y labels\n",
    "plt.rc('xtick', labelsize=SMALL_SIZE)    # fontsize of the tick labels\n",
    "plt.rc('ytick', labelsize=SMALL_SIZE)    # fontsize of the tick labels\n",
    "plt.rc('legend', fontsize=SMALL_SIZE)    # legend fontsize\n",
    "plt.rc('figure', titlesize=BIGGER_SIZE)  # fontsize of the figure title"
   ]
  },
  {
   "cell_type": "code",
   "execution_count": 3,
   "id": "9964c3fd",
   "metadata": {},
   "outputs": [],
   "source": [
    "backend = FakeBelem()\n",
    "#backend = Aer.get_backend(\"aer_simulator\")\n",
    "num_shots = 1*8192\n",
    "\n",
    "# Set up parameters for unitary\n",
    "beta = 1\n",
    "num_steps = 500\n",
    "betas, dt = np.linspace(0, beta, num_steps, retstep=True)"
   ]
  },
  {
   "cell_type": "code",
   "execution_count": 4,
   "id": "eac74c68",
   "metadata": {},
   "outputs": [],
   "source": [
    "# Define parameters\n",
    "D = -2\n",
    "γ = 0.5\n",
    "N = 2"
   ]
  },
  {
   "cell_type": "code",
   "execution_count": 5,
   "id": "4d5f54bb",
   "metadata": {},
   "outputs": [],
   "source": [
    "# Define Hamiltonian\n",
    "H_qis = D / 2 * ((I ^ I) + (Z ^ Z)) + γ / 2 * ((X ^ X) - (Y ^ Y))"
   ]
  },
  {
   "cell_type": "code",
   "execution_count": 6,
   "id": "849a428e",
   "metadata": {},
   "outputs": [
    {
     "name": "stdout",
     "output_type": "stream",
     "text": [
      "True\n"
     ]
    }
   ],
   "source": [
    "# Check that Eq. 9 for the evolution operator matches what qiskit yields\n",
    "U_qis = (float(dt) * H_qis).exp_i().to_matrix()\n",
    "\n",
    "coeff = np.exp(-1j * D / 2 * dt)\n",
    "A = (D / 2 * dt * (Z ^ Z)).exp_i().to_matrix()\n",
    "B = (γ / 2 * dt * (X ^ X)).exp_i().to_matrix()\n",
    "C = (-γ / 2 * dt * (Y ^ Y)).exp_i().to_matrix()\n",
    "U = coeff * A @ B @ C\n",
    "\n",
    "print(np.allclose(U, U_qis))"
   ]
  },
  {
   "cell_type": "code",
   "execution_count": 7,
   "id": "b360dd4a",
   "metadata": {},
   "outputs": [],
   "source": [
    "# Get eigenenergies of H\n",
    "E_qis, V_qis = np.linalg.eigh(H_qis.to_matrix())"
   ]
  },
  {
   "cell_type": "code",
   "execution_count": 8,
   "id": "9a9ccf48",
   "metadata": {},
   "outputs": [],
   "source": [
    "# Define initial wavefunction\n",
    "init_wf = np.array([1, 0, 0, 0])\n",
    "\n",
    "# Create circuit registers\n",
    "qr = QuantumRegister(N)\n",
    "qar = AncillaRegister(1)\n",
    "cr = ClassicalRegister(1)\n",
    "cliff = random_clifford(N, seed=5)\n",
    "init_wf = cliff.to_matrix() @ init_wf"
   ]
  },
  {
   "cell_type": "code",
   "execution_count": 9,
   "id": "23eee698",
   "metadata": {},
   "outputs": [],
   "source": [
    "# Get circuits for real and imaginary Hadamard estimation with no observable\n",
    "he_circs_re = stf.had_est_barr(qr, qar, cr, H_qis, None, num_steps, \n",
    "                                      dt, cliff)\n",
    "he_circs_im = stf.im_had_est_barr(qr, qar, cr, H_qis, None, num_steps, \n",
    "                                      dt, cliff)"
   ]
  },
  {
   "cell_type": "code",
   "execution_count": 10,
   "id": "f20f9bf9",
   "metadata": {},
   "outputs": [],
   "source": [
    "# Get the overlap lists for the circuits with no observables\n",
    "ovlps_r = stf.get_ovlps(he_circs_re, backend, num_shots)\n",
    "ovlps_i = stf.get_ovlps(he_circs_im, backend, num_shots)\n",
    "ovlps = ovlps_r + 1j * ovlps_i"
   ]
  },
  {
   "cell_type": "code",
   "execution_count": 11,
   "id": "6872ef1e",
   "metadata": {},
   "outputs": [],
   "source": [
    "# Now that we have the overlaps, we want to calculate the expectation value of H at each step\n",
    "pauli_H = stf.pauli_string_decomp(H_qis, N)"
   ]
  },
  {
   "cell_type": "code",
   "execution_count": 12,
   "id": "bf883468",
   "metadata": {},
   "outputs": [],
   "source": [
    "# Now perform hadmard estimation on each string\n",
    "H_circs_r = {}\n",
    "H_circs_i = {}\n",
    "for key in pauli_H:\n",
    "    if abs(pauli_H[key]) != 0:\n",
    "        H_circs_r[key] = stf.had_est_barr(qr, qar, cr, H_qis, Pauli(key), num_steps, dt,\n",
    "                                                 cliff)\n",
    "        \n",
    "        H_circs_i[key] = stf.im_had_est_barr(qr, qar, cr, H_qis, Pauli(key), num_steps,\n",
    "                                                                   dt, cliff)"
   ]
  },
  {
   "cell_type": "code",
   "execution_count": 13,
   "id": "be4e303c",
   "metadata": {},
   "outputs": [],
   "source": [
    "# Get real part of H expectations\n",
    "H_ovlps_re = 0\n",
    "for key in H_circs_r:\n",
    "    temp = stf.get_ovlps(H_circs_r[key], backend, num_shots)\n",
    "    H_ovlps_re += pauli_H[key] * temp / np.sqrt(2 ** (2*N))"
   ]
  },
  {
   "cell_type": "code",
   "execution_count": null,
   "id": "04b55a80",
   "metadata": {},
   "outputs": [],
   "source": [
    "# Get imag part of H expectations\n",
    "H_ovlps_im = 0\n",
    "for key in H_circs_i:\n",
    "    temp = stf.get_ovlps(H_circs_i[key], backend, num_shots)\n",
    "    H_ovlps_im += 1j * pauli_H[key] * temp / np.sqrt(2 ** (2*N))"
   ]
  },
  {
   "cell_type": "code",
   "execution_count": null,
   "id": "286797ef",
   "metadata": {},
   "outputs": [],
   "source": [
    "# Get total H expectation\n",
    "total_H_ovlp = H_ovlps_re + H_ovlps_im"
   ]
  },
  {
   "cell_type": "code",
   "execution_count": null,
   "id": "8183f24d",
   "metadata": {},
   "outputs": [],
   "source": [
    "# Classical calculation\n",
    "class_ovlp, class_E_ovlp = stf.classical_calc(np.array(init_wf), H_qis.to_matrix(),\n",
    "                                              H_qis.to_matrix(), num_steps, dt)"
   ]
  },
  {
   "cell_type": "code",
   "execution_count": null,
   "id": "c420832d",
   "metadata": {},
   "outputs": [],
   "source": [
    "plt.figure(1)\n",
    "plt.plot(ovlps.real, 'o-', label='Aer')\n",
    "plt.plot(class_ovlp.real, 'kx-', label='Classical')\n",
    "plt.ylabel(\"Re(Ovlp)\")\n",
    "plt.xlabel(\"steps\")\n",
    "plt.legend(numpoints=1)\n",
    "\n",
    "plt.figure(2)\n",
    "plt.plot(ovlps.imag, 'o-', label='Aer')\n",
    "plt.plot(class_ovlp.imag, 'kx-', label='Classical')\n",
    "plt.ylabel(\"Im(Ovlp)\")\n",
    "plt.xlabel(\"steps\")\n",
    "plt.legend(numpoints=1)"
   ]
  },
  {
   "cell_type": "code",
   "execution_count": null,
   "id": "d13c8750",
   "metadata": {},
   "outputs": [],
   "source": [
    "plt.figure(1)\n",
    "plt.plot(total_H_ovlp.real, 'o-', label='Aer')\n",
    "plt.plot(class_E_ovlp.real, 'kx-', label='Classical')\n",
    "plt.xlabel(\"Steps\")\n",
    "plt.ylabel(\"Re(E)\")\n",
    "plt.legend(numpoints=1)\n",
    "\n",
    "plt.figure(2)\n",
    "plt.plot(total_H_ovlp.imag, 'o-', label='Aer')\n",
    "plt.plot(class_E_ovlp.imag, 'kx-', label='Classical')\n",
    "plt.xlabel(\"Steps\")\n",
    "plt.ylabel(\"Im(E)\")\n",
    "plt.legend(numpoints=1)"
   ]
  },
  {
   "cell_type": "code",
   "execution_count": null,
   "id": "d0a9dee3",
   "metadata": {},
   "outputs": [],
   "source": [
    "# Sweep over lambdas to find good values for convergence\n",
    "λ = np.linspace(-1.5 * np.abs(E_qis[0]), 0.9 * np.abs(E_qis[0]), 1000)\n",
    "calc_eng = [stf.alt_partition_calc(ovlps, total_H_ovlp, num_steps, _, dt)[1][-1]\n",
    "           for _ in λ]"
   ]
  },
  {
   "cell_type": "code",
   "execution_count": null,
   "id": "f4dea9ce",
   "metadata": {},
   "outputs": [],
   "source": [
    "for _ in E_qis:\n",
    "    plt.plot(λ / np.abs(E_qis[0]), _ * np.ones(λ.shape[0]) + λ, 'k-.')\n",
    "plt.plot(λ / np.abs(E_qis[0]), calc_eng)\n",
    "plt.xlabel(\"$\\\\lambda / E_0$\")\n",
    "plt.ylabel(\"E\")"
   ]
  },
  {
   "cell_type": "code",
   "execution_count": null,
   "id": "2e9e8456",
   "metadata": {},
   "outputs": [],
   "source": [
    "λs = np.array([-1.5, -0.5, 0.5]) * E_qis[0]\n",
    "l = 0\n",
    "for _ in zip(λs, E_qis):\n",
    "    plt.plot(betas[2::2], stf.alt_partition_calc(ovlps, total_H_ovlp, num_steps,\n",
    "                                                -_[0], dt)[1][1:]+_[0],\n",
    "            label='$\\\\lambda=E_' + str(l) + '$')\n",
    "    l += 1\n",
    "    plt.plot(betas, _[1] * np.ones(len(betas)), '-.')\n",
    "\n",
    "plt.xlabel(\"$\\\\beta$\")\n",
    "plt.ylabel(\"E\")\n",
    "plt.legend()\n",
    "plt.savefig(\"gnatenkoH_belem.png\", format='png', dpi=300)"
   ]
  },
  {
   "cell_type": "code",
   "execution_count": null,
   "id": "b987fb30",
   "metadata": {},
   "outputs": [],
   "source": [
    "trans_re = transpile(he_circs_re, backend)\n",
    "trans_im = transpile(he_circs_im, backend)\n",
    "re_depths = [_.depth() for _ in trans_re]\n",
    "im_depths = [_.depth() for _ in trans_re]"
   ]
  },
  {
   "cell_type": "code",
   "execution_count": null,
   "id": "ab11bbdb",
   "metadata": {},
   "outputs": [],
   "source": [
    "plt.plot(re_depths, label='Real')\n",
    "plt.plot(im_depths, label='Imag')\n",
    "plt.xlabel(\"Number of Steps\")\n",
    "plt.ylabel(\"Circuit Depth\")"
   ]
  },
  {
   "cell_type": "code",
   "execution_count": null,
   "id": "97a2e74e",
   "metadata": {},
   "outputs": [],
   "source": []
  }
 ],
 "metadata": {
  "kernelspec": {
   "display_name": "Python 3 (ipykernel)",
   "language": "python",
   "name": "python3"
  },
  "language_info": {
   "codemirror_mode": {
    "name": "ipython",
    "version": 3
   },
   "file_extension": ".py",
   "mimetype": "text/x-python",
   "name": "python",
   "nbconvert_exporter": "python",
   "pygments_lexer": "ipython3",
   "version": "3.9.13"
  }
 },
 "nbformat": 4,
 "nbformat_minor": 5
}
