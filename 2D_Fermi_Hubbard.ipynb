{
 "cells": [
  {
   "cell_type": "code",
   "id": "b963dca1",
   "metadata": {
    "ExecuteTime": {
     "end_time": "2025-03-31T16:43:11.184479Z",
     "start_time": "2025-03-31T16:43:08.694642Z"
    }
   },
   "source": [
    "import os, sys\n",
    "# \n",
    "# os.environ['KMP_DUPLICATE_LIB_OK']='True' # uncomment this line if omp error occurs on OSX for python 3\n",
    "# os.environ[\"OMP_NUM_THREADS\"] = \"4\" # export OMP_NUM_THREADS=4\n",
    "# os.environ[\"OPENBLAS_NUM_THREADS\"] = \"4\" # export OPENBLAS_NUM_THREADS=4 \n",
    "# os.environ[\"MKL_NUM_THREADS\"] = \"6\" # export MKL_NUM_THREADS=6\n",
    "# os.environ[\"VECLIB_MAXIMUM_THREADS\"] = \"4\" # export VECLIB_MAXIMUM_THREADS=4\n",
    "# os.environ[\"NUMEXPR_NUM_THREADS\"] = \"6\" # export NUMEXPR_NUM_THREADS=6\n",
    "import numpy as np\n",
    "print(np.__version__)\n",
    "from scipy import linalg\n",
    "import stomp_functions as stf\n",
    "from quspin.operators import hamiltonian, commutator\n",
    "from quspin.basis import spinful_fermion_basis_general\n",
    "import matplotlib.pyplot as plt\n",
    "import matplotlib as mpl\n",
    "from qiskit.quantum_info import random_clifford\n",
    "\n"
   ],
   "outputs": [
    {
     "name": "stdout",
     "output_type": "stream",
     "text": [
      "1.26.4\n",
      "1.26.4\n"
     ]
    }
   ],
   "execution_count": 1
  },
  {
   "cell_type": "code",
   "id": "83ad67d8",
   "metadata": {
    "ExecuteTime": {
     "end_time": "2025-03-31T16:43:11.200306Z",
     "start_time": "2025-03-31T16:43:11.187994Z"
    }
   },
   "source": [
    "# Set font size of plot elements\n",
    "SMALL_SIZE = 12\n",
    "MEDIUM_SIZE = 14\n",
    "BIGGER_SIZE = 18\n",
    "\n",
    "plt.rc('font', size=SMALL_SIZE)          # controls default text sizes\n",
    "plt.rc('axes', titlesize=SMALL_SIZE)     # fontsize of the axes title\n",
    "plt.rc('axes', labelsize=MEDIUM_SIZE)    # fontsize of the x and y labels\n",
    "plt.rc('xtick', labelsize=SMALL_SIZE)    # fontsize of the tick labels\n",
    "plt.rc('ytick', labelsize=SMALL_SIZE)    # fontsize of the tick labels\n",
    "plt.rc('legend', fontsize=SMALL_SIZE)    # legend fontsize\n",
    "plt.rc('figure', titlesize=BIGGER_SIZE)  # fontsize of the figure title"
   ],
   "outputs": [],
   "execution_count": 2
  },
  {
   "cell_type": "code",
   "id": "3aadbf9f",
   "metadata": {
    "ExecuteTime": {
     "end_time": "2025-03-31T16:43:11.371196Z",
     "start_time": "2025-03-31T16:43:11.357561Z"
    }
   },
   "source": [
    "# define model parameters\n",
    "Lx, Ly = 2, 2 # linear dimension of spin 1 2d lattice\n",
    "N_2d = Lx * Ly # number of sites for spin 1\n",
    "\n",
    "J = 1.0 # hopping matrix element\n",
    "U = 2.0 # onsite interaction\n",
    "mu = 0.5 # chemical potential"
   ],
   "outputs": [],
   "execution_count": 3
  },
  {
   "cell_type": "code",
   "id": "f419aaef",
   "metadata": {
    "ExecuteTime": {
     "end_time": "2025-03-31T16:43:11.402198Z",
     "start_time": "2025-03-31T16:43:11.388114Z"
    }
   },
   "source": [
    "# Create symmetry transformations for 2D lattice\n",
    "s = np.arange(N_2d)\n",
    "x = s % Lx    # x position of sites\n",
    "y = s // Lx   # y position of sites\n",
    "\n",
    "Tx = (x + 1) % Lx + Lx * y   # translation along x direction\n",
    "Ty = x + Lx * ((y + 1) % Ly) # translation along y-direction\n",
    "Px = x + Lx * ( Ly - y - 1) # reflection about x-axis\n",
    "Py = (Lx - x - 1) + Lx * y  # reflection about y-axis\n",
    "S = -(s + 1) # fermion spin inversion in the simple case"
   ],
   "outputs": [],
   "execution_count": 4
  },
  {
   "cell_type": "code",
   "id": "e28b2b18",
   "metadata": {
    "ExecuteTime": {
     "end_time": "2025-03-31T16:43:11.433760Z",
     "start_time": "2025-03-31T16:43:11.418703Z"
    }
   },
   "source": [
    "# Define number of up and down fermions in lattice\n",
    "# We want to be a bit above half-filling here\n",
    "N_up = N_2d // 2 + 0\n",
    "N_down = N_2d // 2\n",
    "\n",
    "# Create basis\n",
    "basis_2d=spinful_fermion_basis_general(N_2d, Nf=(N_up, N_down), double_occupancy=True,\n",
    "                                       #kxblock=(Tx,0), kyblock=(Ty,0),\n",
    "                                       #pxblock=(Px,1), pyblock=(Py,0), # contains GS\n",
    "                                       #sblock=(S,0)\n",
    "                                      )\n",
    "print(basis_2d)"
   ],
   "outputs": [
    {
     "name": "stdout",
     "output_type": "stream",
     "text": [
      "reference states: \n",
      "array index   /   Fock state   /   integer repr. \n",
      "  0.  |1 1 0 0>|1 1 0 0>  204 \n",
      "  1.  |1 1 0 0>|1 0 1 0>  202 \n",
      "  2.  |1 1 0 0>|1 0 0 1>  201 \n",
      "  3.  |1 1 0 0>|0 1 1 0>  198 \n",
      "  4.  |1 1 0 0>|0 1 0 1>  197 \n",
      "  5.  |1 1 0 0>|0 0 1 1>  195 \n",
      "  6.  |1 0 1 0>|1 1 0 0>  172 \n",
      "  7.  |1 0 1 0>|1 0 1 0>  170 \n",
      "  8.  |1 0 1 0>|1 0 0 1>  169 \n",
      "  9.  |1 0 1 0>|0 1 1 0>  166 \n",
      " 10.  |1 0 1 0>|0 1 0 1>  165 \n",
      " 11.  |1 0 1 0>|0 0 1 1>  163 \n",
      " 12.  |1 0 0 1>|1 1 0 0>  156 \n",
      " 13.  |1 0 0 1>|1 0 1 0>  154 \n",
      " 14.  |1 0 0 1>|1 0 0 1>  153 \n",
      " 15.  |1 0 0 1>|0 1 1 0>  150 \n",
      " 16.  |1 0 0 1>|0 1 0 1>  149 \n",
      " 17.  |1 0 0 1>|0 0 1 1>  147 \n",
      " 18.  |0 1 1 0>|1 1 0 0>  108 \n",
      " 19.  |0 1 1 0>|1 0 1 0>  106 \n",
      " 20.  |0 1 1 0>|1 0 0 1>  105 \n",
      " 21.  |0 1 1 0>|0 1 1 0>  102 \n",
      " 22.  |0 1 1 0>|0 1 0 1>  101 \n",
      " 23.  |0 1 1 0>|0 0 1 1>   99 \n",
      " 24.  |0 1 0 1>|1 1 0 0>   92 \n",
      " 25.  |0 1 0 1>|1 0 1 0>   90 \n",
      " 26.  |0 1 0 1>|1 0 0 1>   89 \n",
      " 27.  |0 1 0 1>|0 1 1 0>   86 \n",
      " 28.  |0 1 0 1>|0 1 0 1>   85 \n",
      " 29.  |0 1 0 1>|0 0 1 1>   83 \n",
      " 30.  |0 0 1 1>|1 1 0 0>   60 \n",
      " 31.  |0 0 1 1>|1 0 1 0>   58 \n",
      " 32.  |0 0 1 1>|1 0 0 1>   57 \n",
      " 33.  |0 0 1 1>|0 1 1 0>   54 \n",
      " 34.  |0 0 1 1>|0 1 0 1>   53 \n",
      " 35.  |0 0 1 1>|0 0 1 1>   51 \n"
     ]
    }
   ],
   "execution_count": 5
  },
  {
   "cell_type": "code",
   "id": "25d1a64b",
   "metadata": {
    "ExecuteTime": {
     "end_time": "2025-03-31T16:43:11.464418Z",
     "start_time": "2025-03-31T16:43:11.450722Z"
    }
   },
   "source": [
    "# Set up hamiltonian\n",
    "hopping_left = [[-J, i, Tx[i]] for i in range(N_2d)] + [[-J, i, Ty[i]] for i in range(N_2d)]\n",
    "hopping_right = [[+J, i, Tx[i]] for i in range(N_2d)] + [[+J, i, Ty[i]] for i in range(N_2d)]\n",
    "potential = [[-mu, i] for i in range(N_2d)]\n",
    "interaction = [[U, i, i] for i in range(N_2d)]\n",
    "\n",
    "static=[[\"+-|\",hopping_left], # spin up hops to left\n",
    "\t\t[\"-+|\",hopping_right], # spin up hops to right\n",
    "\t\t[\"|+-\",hopping_left], # spin down hopes to left\n",
    "\t\t[\"|-+\",hopping_right], # spin up hops to right\n",
    "\t\t[\"n|\",potential], # onsite potenial, spin up\n",
    "\t\t[\"|n\",potential], # onsite potential, spin down\n",
    "\t\t[\"n|n\",interaction]] # spin up-spin down interaction"
   ],
   "outputs": [],
   "execution_count": 6
  },
  {
   "cell_type": "code",
   "id": "2416dc1b",
   "metadata": {
    "ExecuteTime": {
     "end_time": "2025-03-31T16:43:11.911271Z",
     "start_time": "2025-03-31T16:43:11.480938Z"
    }
   },
   "source": [
    "# Build the Hamiltonian\n",
    "H = hamiltonian(static, [], basis=basis_2d, dtype=np.float64).toarray()"
   ],
   "outputs": [
    {
     "name": "stdout",
     "output_type": "stream",
     "text": [
      "Hermiticity check passed!\n",
      "Symmetry checks passed!\n"
     ]
    },
    {
     "name": "stderr",
     "output_type": "stream",
     "text": [
      "C:\\Users\\gerar\\AppData\\Local\\Temp\\ipykernel_27780\\1336399668.py:2: UserWarning: Test for particle conservation not implemented for <class 'quspin.basis.basis_general.fermion.spinful_fermion_basis_general'>, to turn off this warning set check_pcon=False in hamiltonian\n",
      "  H = hamiltonian(static, [], basis=basis_2d, dtype=np.float64).toarray()\n"
     ]
    }
   ],
   "execution_count": 7
  },
  {
   "cell_type": "code",
   "id": "3104b464",
   "metadata": {
    "ExecuteTime": {
     "end_time": "2025-03-31T16:43:11.941196Z",
     "start_time": "2025-03-31T16:43:11.927347Z"
    }
   },
   "source": [
    "E = linalg.eigvalsh(H)"
   ],
   "outputs": [],
   "execution_count": 8
  },
  {
   "cell_type": "code",
   "id": "755fe7f1",
   "metadata": {
    "ExecuteTime": {
     "end_time": "2025-03-31T16:43:11.971196Z",
     "start_time": "2025-03-31T16:43:11.957346Z"
    }
   },
   "source": [
    "# Create initial state\n",
    "np.random.seed(5)\n",
    "init_state = np.random.random(H.shape[0]) + 1j * np.random.random(H.shape[0])\n",
    "init_state /= np.sqrt(np.sum(np.abs(init_state) ** 2))\n",
    "#init_state = np.zeros(H.shape[0])\n",
    "#init_state[0] = 1\n",
    "\n",
    "beta = 0.3\n",
    "num_steps = 500\n",
    "betas, dt = np.linspace(0, beta, num_steps, retstep=True)"
   ],
   "outputs": [],
   "execution_count": 9
  },
  {
   "cell_type": "code",
   "id": "b6604973",
   "metadata": {
    "ExecuteTime": {
     "end_time": "2025-03-31T16:43:12.001688Z",
     "start_time": "2025-03-31T16:43:11.987700Z"
    }
   },
   "source": [
    "ovlps, H_ovlps = stf.classical_calc(init_state, H, H, num_steps, dt)"
   ],
   "outputs": [],
   "execution_count": 10
  },
  {
   "cell_type": "code",
   "id": "4a82dac4",
   "metadata": {
    "ExecuteTime": {
     "end_time": "2025-03-31T16:43:12.032584Z",
     "start_time": "2025-03-31T16:43:12.019061Z"
    }
   },
   "source": [
    "stomp_results = {}\n",
    "#for i, _ in enumerate(keys):\n",
    "#    stomp_results[_] = stomp_energies[i]\n",
    "#stomp_results['E_0'] = stomp_energies[0]   \n",
    "stomp_results['Exact'] = E\n",
    "stomp_results['Z'] = ovlps\n",
    "stomp_results['O'] = H_ovlps"
   ],
   "outputs": [],
   "execution_count": 11
  },
  {
   "cell_type": "code",
   "id": "f1602ec0",
   "metadata": {
    "ExecuteTime": {
     "end_time": "2025-03-31T16:43:12.079200Z",
     "start_time": "2025-03-31T16:43:12.065538Z"
    }
   },
   "source": [
    "main_path = \"2D_FH_clifford_testing/\"\n",
    "filename = \"2DFH_N2d=\" + str(N_2d) + \"_Nferm=\" + str(N_up + N_down) \\\n",
    "            +\"_Numsteps=\" + str(num_steps) + \"_t=\" + str(beta) +\".npz\"\n",
    "np.savez(main_path + filename, **stomp_results)"
   ],
   "outputs": [],
   "execution_count": 12
  },
  {
   "cell_type": "code",
   "id": "96cd7c01",
   "metadata": {
    "ExecuteTime": {
     "end_time": "2025-03-31T16:43:12.126209Z",
     "start_time": "2025-03-31T16:43:12.111776Z"
    }
   },
   "source": [],
   "outputs": [],
   "execution_count": null
  }
 ],
 "metadata": {
  "kernelspec": {
   "display_name": "Python 3 (ipykernel)",
   "language": "python",
   "name": "python3"
  },
  "language_info": {
   "codemirror_mode": {
    "name": "ipython",
    "version": 3
   },
   "file_extension": ".py",
   "mimetype": "text/x-python",
   "name": "python",
   "nbconvert_exporter": "python",
   "pygments_lexer": "ipython3",
   "version": "3.9.13"
  }
 },
 "nbformat": 4,
 "nbformat_minor": 5
}
