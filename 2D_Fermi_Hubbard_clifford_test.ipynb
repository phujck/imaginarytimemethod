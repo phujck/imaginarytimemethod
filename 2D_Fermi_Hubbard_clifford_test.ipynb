{
 "cells": [
  {
   "cell_type": "code",
   "id": "e0a3c87e",
   "metadata": {
    "ExecuteTime": {
     "end_time": "2025-03-31T16:54:05.979628Z",
     "start_time": "2025-03-31T16:54:03.119199Z"
    }
   },
   "source": [
    "import os, sys\n",
    "\n",
    "os.environ['KMP_DUPLICATE_LIB_OK']='True' # uncomment this line if omp error occurs on OSX for python 3\n",
    "os.environ[\"OMP_NUM_THREADS\"] = \"4\" # export OMP_NUM_THREADS=4\n",
    "os.environ[\"OPENBLAS_NUM_THREADS\"] = \"4\" # export OPENBLAS_NUM_THREADS=4 \n",
    "os.environ[\"MKL_NUM_THREADS\"] = \"6\" # export MKL_NUM_THREADS=6\n",
    "os.environ[\"VECLIB_MAXIMUM_THREADS\"] = \"4\" # export VECLIB_MAXIMUM_THREADS=4\n",
    "os.environ[\"NUMEXPR_NUM_THREADS\"] = \"6\" # export NUMEXPR_NUM_THREADS=6\n",
    "\n",
    "from scipy import linalg\n",
    "import stomp_functions as stf\n",
    "from quspin.operators import hamiltonian, commutator\n",
    "from quspin.basis import spinful_fermion_basis_general\n",
    "import numpy as np\n",
    "import matplotlib.pyplot as plt\n",
    "import matplotlib as mpl\n",
    "from qiskit.quantum_info import random_clifford"
   ],
   "outputs": [
    {
     "name": "stdout",
     "output_type": "stream",
     "text": [
      "1.26.4\n"
     ]
    }
   ],
   "execution_count": 1
  },
  {
   "cell_type": "code",
   "id": "d461ccc9",
   "metadata": {
    "ExecuteTime": {
     "end_time": "2025-03-31T16:54:06.025693Z",
     "start_time": "2025-03-31T16:54:06.011319Z"
    }
   },
   "source": [
    "# define model parameters\n",
    "Lx, Ly = 2, 2 # linear dimension of spin 1 2d lattice\n",
    "N_2d = Lx * Ly # number of sites for spin 1\n",
    "\n",
    "J = -1.0 # hopping matrix element\n",
    "U = 2.0 # onsite interaction\n",
    "mu = 0.5 # chemical potential"
   ],
   "outputs": [],
   "execution_count": 2
  },
  {
   "cell_type": "code",
   "id": "6fe91ae6",
   "metadata": {
    "ExecuteTime": {
     "end_time": "2025-03-31T16:54:06.196378Z",
     "start_time": "2025-03-31T16:54:06.181717Z"
    }
   },
   "source": [
    "# Create symmetry transformations for 2D lattice\n",
    "s = np.arange(N_2d)\n",
    "x = s % Lx    # x position of sites\n",
    "y = s // Lx   # y position of sites\n",
    "\n",
    "Tx = (x + 1) % Lx + Lx * y   # translation along x direction\n",
    "Ty = x + Lx * ((y + 1) % Ly) # translation along y-direction\n",
    "Px = x + Lx * ( Ly - y - 1) # reflection about x-axis\n",
    "Py = (Lx - x - 1) + Lx * y  # reflection about y-axis\n",
    "S = -(s + 1) # fermion spin inversion in the simple case"
   ],
   "outputs": [],
   "execution_count": 3
  },
  {
   "cell_type": "code",
   "id": "a6917aa0",
   "metadata": {
    "ExecuteTime": {
     "end_time": "2025-03-31T16:54:06.226520Z",
     "start_time": "2025-03-31T16:54:06.212294Z"
    }
   },
   "source": [
    "# Define number of up and down fermions in lattice\n",
    "# We want to be a bit above half-filling here\n",
    "N_up = N_2d // 2 + 0\n",
    "N_down = N_2d // 2\n",
    "\n",
    "# Create basis\n",
    "basis_2d=spinful_fermion_basis_general(N_2d, Nf=(N_up, N_down), double_occupancy=True,\n",
    "                                       #kxblock=(Tx,0), kyblock=(Ty,0),\n",
    "                                       #pxblock=(Px,1), pyblock=(Py,0), # contains GS\n",
    "                                       #sblock=(S,0)\n",
    "                                      )\n",
    "print(basis_2d)"
   ],
   "outputs": [
    {
     "name": "stdout",
     "output_type": "stream",
     "text": [
      "reference states: \n",
      "array index   /   Fock state   /   integer repr. \n",
      "  0.  |1 1 0 0>|1 1 0 0>  204 \n",
      "  1.  |1 1 0 0>|1 0 1 0>  202 \n",
      "  2.  |1 1 0 0>|1 0 0 1>  201 \n",
      "  3.  |1 1 0 0>|0 1 1 0>  198 \n",
      "  4.  |1 1 0 0>|0 1 0 1>  197 \n",
      "  5.  |1 1 0 0>|0 0 1 1>  195 \n",
      "  6.  |1 0 1 0>|1 1 0 0>  172 \n",
      "  7.  |1 0 1 0>|1 0 1 0>  170 \n",
      "  8.  |1 0 1 0>|1 0 0 1>  169 \n",
      "  9.  |1 0 1 0>|0 1 1 0>  166 \n",
      " 10.  |1 0 1 0>|0 1 0 1>  165 \n",
      " 11.  |1 0 1 0>|0 0 1 1>  163 \n",
      " 12.  |1 0 0 1>|1 1 0 0>  156 \n",
      " 13.  |1 0 0 1>|1 0 1 0>  154 \n",
      " 14.  |1 0 0 1>|1 0 0 1>  153 \n",
      " 15.  |1 0 0 1>|0 1 1 0>  150 \n",
      " 16.  |1 0 0 1>|0 1 0 1>  149 \n",
      " 17.  |1 0 0 1>|0 0 1 1>  147 \n",
      " 18.  |0 1 1 0>|1 1 0 0>  108 \n",
      " 19.  |0 1 1 0>|1 0 1 0>  106 \n",
      " 20.  |0 1 1 0>|1 0 0 1>  105 \n",
      " 21.  |0 1 1 0>|0 1 1 0>  102 \n",
      " 22.  |0 1 1 0>|0 1 0 1>  101 \n",
      " 23.  |0 1 1 0>|0 0 1 1>   99 \n",
      " 24.  |0 1 0 1>|1 1 0 0>   92 \n",
      " 25.  |0 1 0 1>|1 0 1 0>   90 \n",
      " 26.  |0 1 0 1>|1 0 0 1>   89 \n",
      " 27.  |0 1 0 1>|0 1 1 0>   86 \n",
      " 28.  |0 1 0 1>|0 1 0 1>   85 \n",
      " 29.  |0 1 0 1>|0 0 1 1>   83 \n",
      " 30.  |0 0 1 1>|1 1 0 0>   60 \n",
      " 31.  |0 0 1 1>|1 0 1 0>   58 \n",
      " 32.  |0 0 1 1>|1 0 0 1>   57 \n",
      " 33.  |0 0 1 1>|0 1 1 0>   54 \n",
      " 34.  |0 0 1 1>|0 1 0 1>   53 \n",
      " 35.  |0 0 1 1>|0 0 1 1>   51 \n"
     ]
    }
   ],
   "execution_count": 4
  },
  {
   "cell_type": "code",
   "id": "b21b46e2",
   "metadata": {
    "ExecuteTime": {
     "end_time": "2025-03-31T16:54:06.257962Z",
     "start_time": "2025-03-31T16:54:06.243656Z"
    }
   },
   "source": [
    "# Set up hamiltonian\n",
    "hopping_left = [[-J, i, Tx[i]] for i in range(N_2d)] + [[-J, i, Ty[i]] for i in range(N_2d)]\n",
    "hopping_right = [[+J, i, Tx[i]] for i in range(N_2d)] + [[+J, i, Ty[i]] for i in range(N_2d)]\n",
    "potential = [[-mu, i] for i in range(N_2d)]\n",
    "interaction = [[U, i, i] for i in range(N_2d)]\n",
    "\n",
    "static=[[\"+-|\",hopping_left], # spin up hops to left\n",
    "\t\t[\"-+|\",hopping_right], # spin up hops to right\n",
    "\t\t[\"|+-\",hopping_left], # spin down hopes to left\n",
    "\t\t[\"|-+\",hopping_right], # spin up hops to right\n",
    "\t\t[\"n|\",potential], # onsite potenial, spin up\n",
    "\t\t[\"|n\",potential], # onsite potential, spin down\n",
    "\t\t[\"n|n\",interaction]] # spin up-spin down interaction"
   ],
   "outputs": [],
   "execution_count": 5
  },
  {
   "cell_type": "code",
   "id": "5d1de7e2",
   "metadata": {
    "ExecuteTime": {
     "end_time": "2025-03-31T16:54:06.706482Z",
     "start_time": "2025-03-31T16:54:06.273987Z"
    }
   },
   "source": [
    "# Build the Hamiltonian\n",
    "H = hamiltonian(static, [], basis=basis_2d, dtype=np.float64).toarray()"
   ],
   "outputs": [
    {
     "name": "stdout",
     "output_type": "stream",
     "text": [
      "Hermiticity check passed!\n",
      "Symmetry checks passed!\n"
     ]
    },
    {
     "name": "stderr",
     "output_type": "stream",
     "text": [
      "C:\\Users\\gerar\\AppData\\Local\\Temp\\ipykernel_14620\\1336399668.py:2: UserWarning: Test for particle conservation not implemented for <class 'quspin.basis.basis_general.fermion.spinful_fermion_basis_general'>, to turn off this warning set check_pcon=False in hamiltonian\n",
      "  H = hamiltonian(static, [], basis=basis_2d, dtype=np.float64).toarray()\n"
     ]
    }
   ],
   "execution_count": 6
  },
  {
   "cell_type": "code",
   "id": "56f4da26",
   "metadata": {
    "ExecuteTime": {
     "end_time": "2025-03-31T16:54:06.737812Z",
     "start_time": "2025-03-31T16:54:06.722755Z"
    }
   },
   "source": [
    "E = linalg.eigvalsh(H)"
   ],
   "outputs": [],
   "execution_count": 7
  },
  {
   "cell_type": "code",
   "id": "f2f6fcc3",
   "metadata": {
    "ExecuteTime": {
     "end_time": "2025-03-31T16:54:06.769095Z",
     "start_time": "2025-03-31T16:54:06.754424Z"
    }
   },
   "source": [
    "τ = 0.3\n",
    "num_steps = 500\n",
    "τs, dτ = np.linspace(0, τ, num_steps, retstep=True)"
   ],
   "outputs": [],
   "execution_count": 8
  },
  {
   "cell_type": "code",
   "id": "1b4d2cc0",
   "metadata": {
    "ExecuteTime": {
     "end_time": "2025-03-31T16:54:06.799187Z",
     "start_time": "2025-03-31T16:54:06.785689Z"
    }
   },
   "source": [
    "# Define files for saving ovlp data\n",
    "main_path = \"2D_FH_clifford_testing/\"\n",
    "ovlp_file = main_path + \"2DFH_ovlp_N2d=\" + str(N_2d) + \"_Nferm=\" + str(N_up + N_down) \\\n",
    "            +\"_Numsteps=\" + str(num_steps) + \"_t=\" + str(τ) +\".npz\"\n",
    "H_ovlp_file = main_path + \"2DFH_H_ovlp_N2d=\" + str(N_2d) + \"_Nferm=\" + str(N_up + N_down) \\\n",
    "            +\"_Numsteps=\" + str(num_steps) + \"_t=\" + str(τ) +\".npz\"\n",
    "exact_file = main_path + \"2DFH_exact_N2d=\" + str(N_2d) + \"_Nferm=\" + str(N_up + N_down) \\\n",
    "            +\"_Numsteps=\" + str(num_steps) + \"_t=\" + str(τ) +\".npz\""
   ],
   "outputs": [],
   "execution_count": 9
  },
  {
   "cell_type": "code",
   "id": "789eb078",
   "metadata": {
    "ExecuteTime": {
     "end_time": "2025-03-31T16:54:06.831188Z",
     "start_time": "2025-03-31T16:54:06.816749Z"
    }
   },
   "source": [
    "num_runs = 100\n",
    "if os.path.isfile(ovlp_file):\n",
    "    ovlp_data = np.load(ovlp_file, allow_pickle=True)\n",
    "    start_seed = len(ovlp_data.files)\n",
    "    seed_list = [i for i in range(start_seed, start_seed+num_runs)]\n",
    "    print(seed_list)\n",
    "else:\n",
    "    seed_list = [i for i in range(num_runs)]"
   ],
   "outputs": [],
   "execution_count": 10
  },
  {
   "cell_type": "code",
   "id": "618e1f4d",
   "metadata": {
    "ExecuteTime": {
     "end_time": "2025-03-31T16:54:12.654743Z",
     "start_time": "2025-03-31T16:54:06.848804Z"
    }
   },
   "source": [
    "for seed in seed_list:\n",
    "    np.random.seed(seed)\n",
    "    init_state = np.random.random(H.shape[0]) + 1j * np.random.random(H.shape[0])\n",
    "    init_state /= np.sqrt(np.sum(np.abs(init_state) ** 2))\n",
    "    \n",
    "    ovlps, H_ovlps = stf.classical_calc(init_state, H, H, num_steps, dτ)\n",
    "    \n",
    "    if os.path.isfile(ovlp_file):\n",
    "        data = np.load(ovlp_file, allow_pickle=True)\n",
    "        data = dict(data)\n",
    "\n",
    "        # Get the last key from the old data\n",
    "        last_key = list(data.keys())[-1]\n",
    "        data[str(int(last_key) + 1)] = ovlps\n",
    "        np.savez(ovlp_file, **data)\n",
    "    else:\n",
    "        np.savez(ovlp_file, **{str(seed): ovlps})\n",
    "        \n",
    "    if os.path.isfile(H_ovlp_file):\n",
    "        data = np.load(H_ovlp_file, allow_pickle=True)\n",
    "        data = dict(data)\n",
    "        \n",
    "        # Get the last key from the old data\n",
    "        last_key = list(data.keys())[-1]\n",
    "        data[str(int(last_key) + 1)] = H_ovlps\n",
    "        np.savez(H_ovlp_file, **data)\n",
    "    else:\n",
    "        np.savez(H_ovlp_file, **{str(seed): H_ovlps})"
   ],
   "outputs": [],
   "execution_count": 11
  },
  {
   "cell_type": "code",
   "id": "ed8850a6",
   "metadata": {
    "ExecuteTime": {
     "end_time": "2025-03-31T16:54:12.700192Z",
     "start_time": "2025-03-31T16:54:12.686383Z"
    }
   },
   "source": [
    "np.savez(exact_file, **{'E':E})"
   ],
   "outputs": [],
   "execution_count": 12
  },
  {
   "cell_type": "code",
   "id": "da2d9ba0",
   "metadata": {
    "ExecuteTime": {
     "end_time": "2025-03-31T16:54:12.745709Z",
     "start_time": "2025-03-31T16:54:12.732038Z"
    }
   },
   "source": [],
   "outputs": [],
   "execution_count": null
  }
 ],
 "metadata": {
  "kernelspec": {
   "display_name": "Python 3 (ipykernel)",
   "language": "python",
   "name": "python3"
  },
  "language_info": {
   "codemirror_mode": {
    "name": "ipython",
    "version": 3
   },
   "file_extension": ".py",
   "mimetype": "text/x-python",
   "name": "python",
   "nbconvert_exporter": "python",
   "pygments_lexer": "ipython3",
   "version": "3.9.13"
  }
 },
 "nbformat": 4,
 "nbformat_minor": 5
}
