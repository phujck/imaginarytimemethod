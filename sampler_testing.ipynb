{
 "cells": [
  {
   "cell_type": "code",
   "execution_count": 1,
   "id": "cb836912",
   "metadata": {},
   "outputs": [],
   "source": [
    "from qiskit_ibm_runtime import QiskitRuntimeService\n",
    "\n",
    "# Use this command if you didn't save your credentials:\n",
    "service = QiskitRuntimeService(channel=\"ibm_quantum\", token=\"63fe2dff151a1fa50f67b735e09f867d6a2b0380862c050ddac3bdb597586e4818b7a86afe0861d76d84be7f577561808c6a540f48dfb40f6406c056abf86e4c\")"
   ]
  },
  {
   "cell_type": "code",
   "execution_count": 2,
   "id": "123feea5",
   "metadata": {},
   "outputs": [],
   "source": [
    "import numpy as np\n",
    "from qiskit import QuantumCircuit, QuantumRegister, ClassicalRegister, AncillaRegister\n",
    "from qiskit import Aer\n",
    "from qiskit.opflow import X, Z, I, MatrixEvolution\n",
    "from qiskit.quantum_info.operators import Operator, Pauli\n",
    "from qiskit.circuit import Parameter\n",
    "from qiskit import transpile\n",
    "from scipy import linalg\n",
    "from scipy.special import binom\n",
    "import matplotlib.pyplot as plt\n",
    "import itertools as it\n",
    "import copy\n",
    "import stomp_functions as stf\n",
    "from qiskit.quantum_info import random_clifford\n",
    "import time\n",
    "from qiskit.providers.fake_provider import FakeBelem, FakePerth\n",
    "from qiskit_ibm_runtime import Estimator, Sampler,  Options\n",
    "from qiskit.circuit.random import random_circuit\n",
    "from qiskit.circuit.library import HGate\n",
    "from qiskit_aer.noise import NoiseModel"
   ]
  },
  {
   "cell_type": "code",
   "execution_count": 3,
   "id": "b3e35d52",
   "metadata": {},
   "outputs": [],
   "source": [
    "def create_H(N, g, j):\n",
    "    z_ops, x_ops = stf.construct_op_lists(N)\n",
    "    \n",
    "    # Construct the Hamiltonian\n",
    "    # Loop over sites to construct parts of H\n",
    "    H_qis = 0\n",
    "    for n in range(N-1):\n",
    "        H_qis += -j * z_ops[n] @ z_ops[n+1]\n",
    "        for m in range(N):\n",
    "            H_qis += -j * g * x_ops[n]\n",
    "\n",
    "    return H_qis"
   ]
  },
  {
   "cell_type": "code",
   "execution_count": 4,
   "id": "104212ac",
   "metadata": {},
   "outputs": [],
   "source": [
    "def re_sampler_circs(qr, cr, H, obs, numsteps, cliff):\n",
    "    circ_list = []\n",
    "    if obs is not None:\n",
    "        obs_circ = QuantumCircuit([qr[1], qr[2]])\n",
    "        obs_circ.append(Operator(obs), [qr[1], qr[2]])\n",
    "        obs_gate = obs_circ.to_gate().control(1)\n",
    "        \n",
    "    for n in range(numsteps):\n",
    "        # Set up circuit\n",
    "        circ = QuantumCircuit(qr, cr)\n",
    "        \n",
    "        # Apply clifford to main circuits and Hadamard to ancilla\n",
    "        circ.append(cliff.to_circuit(), [1, 2])\n",
    "        circ.h(0)\n",
    "        \n",
    "        # Create Uf\n",
    "        U_f = (-float(n * np.sqrt(dt / 2)) * H).exp_i().to_circuit().to_gate().control(1)\n",
    "        circ.append(U_f, [0, 1, 2])\n",
    "        \n",
    "        # Apply observable if it exits\n",
    "        if obs is not None:\n",
    "            circ.append(obs_gate, [0, 1, 2])\n",
    "            \n",
    "        # Apply x to ancilla\n",
    "        circ.x(0)\n",
    "        \n",
    "        # Create Ub\n",
    "        U_b = (float(n * np.sqrt(dt / 2)) * H).exp_i().to_circuit().to_gate().control(1)\n",
    "        circ.append(U_b, [0, 1, 2])\n",
    "        \n",
    "        # Apply final Hadamard to ancilla\n",
    "        circ.h(0)\n",
    "        \n",
    "        # Apply measurement to ancilla\n",
    "        circ.measure([0], [0])\n",
    "        \n",
    "        # Append to list\n",
    "        circ_list.append(circ)\n",
    "        \n",
    "    return circ_list       \n",
    "        "
   ]
  },
  {
   "cell_type": "code",
   "execution_count": 5,
   "id": "68c0d6db",
   "metadata": {},
   "outputs": [],
   "source": [
    "def im_sampler_circs(qr, cr, H, obs, numsteps, cliff):        \n",
    "    circ_list = []\n",
    "    if obs is not None:\n",
    "        obs_circ = QuantumCircuit([qr[1], qr[2]])\n",
    "        obs_circ.append(Operator(obs), [qr[1], qr[2]])\n",
    "        obs_gate = obs_circ.to_gate().control(1)\n",
    "        \n",
    "    for n in range(numsteps):\n",
    "        # Set up circuit\n",
    "        circ = QuantumCircuit(qr, cr)\n",
    "        \n",
    "        # Apply clifford to main circuits and Hadamard to ancilla\n",
    "        circ.append(cliff.to_circuit(), [1, 2])\n",
    "        circ.h(0)\n",
    "        circ.s(0)\n",
    "        \n",
    "        # Create Uf\n",
    "        U_f = (-float(n * np.sqrt(dt / 2)) * H).exp_i().to_circuit().to_gate().control(1)\n",
    "        circ.append(U_f, [0, 1, 2])\n",
    "        \n",
    "        # Apply observable if it exits\n",
    "        if obs is not None:\n",
    "            circ.append(obs_gate, [0, 1, 2])\n",
    "            \n",
    "        # Apply x to ancilla\n",
    "        circ.x(0)\n",
    "        \n",
    "        # Create Ub\n",
    "        U_b = (float(n * np.sqrt(dt / 2)) * H).exp_i().to_circuit().to_gate().control(1)\n",
    "        circ.append(U_b, [0, 1, 2])\n",
    "        \n",
    "        # Apply final Hadamard to ancilla\n",
    "        circ.h(0)\n",
    "        \n",
    "        # Apply measurement to ancilla\n",
    "        circ.measure([0], [0])\n",
    "        \n",
    "        # Append to list\n",
    "        circ_list.append(circ)\n",
    "        \n",
    "    return circ_list       "
   ]
  },
  {
   "cell_type": "code",
   "execution_count": 6,
   "id": "1df462bd",
   "metadata": {},
   "outputs": [],
   "source": [
    "def get_p0s(results):\n",
    "    p0s = []\n",
    "    for _ in results:\n",
    "        if '0' in _.keys():\n",
    "            p0s.append(_['0'])\n",
    "        else:\n",
    "            p0s.append(0)\n",
    "    \n",
    "    return np.array(p0s)"
   ]
  },
  {
   "cell_type": "code",
   "execution_count": 7,
   "id": "0eae75f8",
   "metadata": {},
   "outputs": [],
   "source": [
    "def had_est_sampler(qr, cr, H, cliff, sampler_options, num_steps):\n",
    "    backend = service.backend(\"ibmq_qasm_simulator\")\n",
    "    sampler = Sampler(backend=backend, options=sampler_options)\n",
    "    \n",
    "    # Real Z\n",
    "    re_circ_list = re_sampler_circs(qr, cr, H, None, num_steps, cliff)\n",
    "    job = sampler.run(re_circ_list)\n",
    "    re_results = [_.binary_probabilities() for _ in job.result().quasi_dists]\n",
    "    re_ovlp = 2 * get_p0s(re_results) - 1\n",
    "    \n",
    "    # Imag Z\n",
    "    im_circ_list = im_sampler_circs(qr, cr, H, None, num_steps, cliff)\n",
    "    job = sampler.run(im_circ_list)\n",
    "    im_results = [_.binary_probabilities() for _ in job.result().quasi_dists]\n",
    "    im_ovlp =  2 * get_p0s(im_results) - 1\n",
    "    \n",
    "    # Combine\n",
    "    ovlps = re_ovlp + 1j * im_ovlp\n",
    "    \n",
    "    # Get pauli decomposition of H\n",
    "    pauli = stf.pauli_string_decomp(H, 2)\n",
    "    \n",
    "    # Get circuits for each key\n",
    "    re_H_circs = {}\n",
    "    im_H_circs = {}\n",
    "    for key in paulis:\n",
    "        if abs(paulis[key]) != 0:\n",
    "            re_H_circs[key] = re_sampler_circs(qr, cr, H, Pauli(key), num_steps, cliff)\n",
    "            im_H_circs[key] = im_sampler_circs(qr, cr, H, Pauli(key), num_steps, cliff)\n",
    "            \n",
    "    # Process real part\n",
    "    re_H_ovlp = 0\n",
    "    for key in re_H_circs:\n",
    "        job = sampler.run(re_H_circs[key])\n",
    "        results = [_.binary_probabilities() for _ in job.result().quasi_dists]\n",
    "        temp = 2 * get_p0s(results) - 1\n",
    "        re_H_ovlp += paulis[key] * temp / np.sqrt(2 ** (2*N))\n",
    "    \n",
    "    # Process imaginary part\n",
    "    im_H_ovlp = 0\n",
    "    for key in im_H_circs:\n",
    "        job = sampler.run(im_H_circs[key])\n",
    "        results = [_.binary_probabilities() for _ in job.result().quasi_dists]\n",
    "        temp = 2 * get_p0s(results) - 1\n",
    "        im_H_ovlp += paulis[key] * temp / np.sqrt(2 ** (2*N))\n",
    "        \n",
    "    # Combine\n",
    "    H_ovlps = re_H_ovlp + 1j * im_H_ovlp\n",
    "    \n",
    "    return ovlps, H_ovlps"
   ]
  },
  {
   "cell_type": "code",
   "execution_count": 8,
   "id": "2c7e48cf",
   "metadata": {},
   "outputs": [],
   "source": [
    "# Set font size of plot elements\n",
    "SMALL_SIZE = 12\n",
    "MEDIUM_SIZE = 14\n",
    "BIGGER_SIZE = 18\n",
    "\n",
    "plt.rc('font', size=SMALL_SIZE)          # controls default text sizes\n",
    "plt.rc('axes', titlesize=SMALL_SIZE)     # fontsize of the axes title\n",
    "plt.rc('axes', labelsize=MEDIUM_SIZE)    # fontsize of the x and y labels\n",
    "plt.rc('xtick', labelsize=SMALL_SIZE)    # fontsize of the tick labels\n",
    "plt.rc('ytick', labelsize=SMALL_SIZE)    # fontsize of the tick labels\n",
    "plt.rc('legend', fontsize=SMALL_SIZE)    # legend fontsize\n",
    "plt.rc('figure', titlesize=BIGGER_SIZE)  # fontsize of the figure title"
   ]
  },
  {
   "cell_type": "code",
   "execution_count": 9,
   "id": "b43dc14f",
   "metadata": {},
   "outputs": [],
   "source": [
    "# Define Hamiltonian parameters\n",
    "N = 2\n",
    "g = 2\n",
    "j = 1"
   ]
  },
  {
   "cell_type": "code",
   "execution_count": 10,
   "id": "86787c94",
   "metadata": {},
   "outputs": [],
   "source": [
    "# Set up parameters for unitary\n",
    "beta = 1\n",
    "num_steps = 80\n",
    "betas, dt = np.linspace(0, beta, num_steps, retstep=True)"
   ]
  },
  {
   "cell_type": "code",
   "execution_count": 11,
   "id": "5af33a11",
   "metadata": {},
   "outputs": [],
   "source": [
    "# Create clifford gate we'll use\n",
    "cliff = random_clifford(N, seed=5)"
   ]
  },
  {
   "cell_type": "code",
   "execution_count": 12,
   "id": "f5905305",
   "metadata": {},
   "outputs": [],
   "source": [
    "# Create Hamiltonian\n",
    "z_ops, x_ops = stf.construct_op_lists(N)\n",
    "\n",
    "H = create_H(N, g, j)\n",
    "E, V = linalg.eigh(H.to_matrix())"
   ]
  },
  {
   "cell_type": "markdown",
   "id": "35976321",
   "metadata": {},
   "source": [
    "## Classical"
   ]
  },
  {
   "cell_type": "code",
   "execution_count": 13,
   "id": "11dfb82c",
   "metadata": {},
   "outputs": [],
   "source": [
    "init_wf = cliff.to_matrix() @ np.array([1, 0, 0, 0])\n",
    "class_ovlp, class_H_ovlp = stf.classical_calc(init_wf, H.to_matrix(), H.to_matrix(), num_steps, dt)"
   ]
  },
  {
   "cell_type": "markdown",
   "id": "4cba36ac",
   "metadata": {},
   "source": [
    "## Sampler"
   ]
  },
  {
   "cell_type": "code",
   "execution_count": 14,
   "id": "2c0bf701",
   "metadata": {},
   "outputs": [],
   "source": [
    "# Make a noise model\n",
    "fake_backend = FakeBelem()\n",
    "noise_model = NoiseModel.from_backend(fake_backend)\n",
    "\n",
    "# Set options to include the noise model\n",
    "options = Options()\n",
    "options.simulator = {\n",
    "    \"noise_model\": noise_model,\n",
    "    \"basis_gates\": fake_backend.configuration().basis_gates,\n",
    "    \"coupling_map\": fake_backend.configuration().coupling_map,\n",
    "    \"seed_simulator\": 42\n",
    "}"
   ]
  },
  {
   "cell_type": "code",
   "execution_count": 15,
   "id": "f5ff0127",
   "metadata": {},
   "outputs": [],
   "source": [
    "#backend = service.backend(\"ibmq_qasm_simulator\")\n",
    "backend = service.backend(\"ibm_brisbane\")\n",
    "sampler = Sampler(backend=backend, options=None)"
   ]
  },
  {
   "cell_type": "code",
   "execution_count": 16,
   "id": "1fc92604",
   "metadata": {},
   "outputs": [],
   "source": [
    "# Set up circuit parameter\n",
    "qr = QuantumRegister(3)\n",
    "cr = ClassicalRegister(1)"
   ]
  },
  {
   "cell_type": "code",
   "execution_count": 17,
   "id": "312404b6",
   "metadata": {},
   "outputs": [
    {
     "data": {
      "image/png": "[encoded data removed]",
      "text/plain": [
       "<Figure size 1559.69x367.889 with 1 Axes>"
      ]
     },
     "execution_count": 17,
     "metadata": {},
     "output_type": "execute_result"
    }
   ],
   "source": [
    "# Real part, no observable\n",
    "re_circ_list = re_sampler_circs(qr, cr, H, None, num_steps, cliff)\n",
    "re_circ_list[0].draw('mpl')"
   ]
  },
  {
   "cell_type": "code",
   "execution_count": 18,
   "id": "20660ff3",
   "metadata": {},
   "outputs": [],
   "source": [
    "# Get real overlap\n",
    "#job = sampler.run(re_circ_list)\n",
    "#re_results = [_.binary_probabilities() for _ in job.result().quasi_dists]\n",
    "#re_ovlp = 2 * get_p0s(re_results) - 1"
   ]
  },
  {
   "cell_type": "code",
   "execution_count": 19,
   "id": "9d771211",
   "metadata": {},
   "outputs": [
    {
     "data": {
      "image/png": "[encoded data removed]",
      "text/plain": [
       "<Figure size 1810.53x367.889 with 1 Axes>"
      ]
     },
     "execution_count": 19,
     "metadata": {},
     "output_type": "execute_result"
    }
   ],
   "source": [
    "# Imaginary part, no observable\n",
    "im_circ_list = im_sampler_circs(qr, cr, H, None, num_steps, cliff)\n",
    "im_circ_list[0].draw('mpl')"
   ]
  },
  {
   "cell_type": "code",
   "execution_count": 20,
   "id": "60c968cb",
   "metadata": {},
   "outputs": [],
   "source": [
    "# Get imaginary overlap\n",
    "#job = sampler.run(im_circ_list)\n",
    "#im_results = [_.binary_probabilities() for _ in job.result().quasi_dists]\n",
    "#im_ovlp = 2 * get_p0s(im_results) - 1"
   ]
  },
  {
   "cell_type": "code",
   "execution_count": 21,
   "id": "f192b4e4",
   "metadata": {},
   "outputs": [],
   "source": [
    "#ovlps = re_ovlp + 1j * im_ovlp"
   ]
  },
  {
   "cell_type": "code",
   "execution_count": 22,
   "id": "d98335dd",
   "metadata": {},
   "outputs": [],
   "source": [
    "# Pauli string decomposition of H\n",
    "paulis = stf.pauli_string_decomp(H, 2)"
   ]
  },
  {
   "cell_type": "code",
   "execution_count": 23,
   "id": "afaea1c2",
   "metadata": {},
   "outputs": [],
   "source": [
    "# Real part, Hamiltonian\n",
    "re_H_circs = {}\n",
    "for key in paulis:\n",
    "    if abs(paulis[key]) != 0:\n",
    "        re_H_circs[key] = re_sampler_circs(qr, cr, H, Pauli(key), num_steps, cliff)"
   ]
  },
  {
   "cell_type": "code",
   "execution_count": 24,
   "id": "23df9305",
   "metadata": {},
   "outputs": [],
   "source": [
    "#re_H_circs['XI'][-1].draw('mpl')"
   ]
  },
  {
   "cell_type": "code",
   "execution_count": 25,
   "id": "55a42893",
   "metadata": {},
   "outputs": [],
   "source": [
    "#re_H_ovlp = 0\n",
    "#for key in re_H_circs:\n",
    "#    job = sampler.run(re_H_circs[key])\n",
    "#    results = [_.binary_probabilities() for _ in job.result().quasi_dists]\n",
    "#    temp = 2 * get_p0s(results) - 1\n",
    "#    re_H_ovlp += paulis[key] * temp / np.sqrt(2 ** (2*N))"
   ]
  },
  {
   "cell_type": "code",
   "execution_count": 26,
   "id": "9cbcaf21",
   "metadata": {},
   "outputs": [],
   "source": [
    "# Imaginary part, Hamiltonian\n",
    "im_H_circs = {}\n",
    "for key in paulis:\n",
    "    if abs(paulis[key]) != 0:\n",
    "        im_H_circs[key] = im_sampler_circs(qr, cr, H, Pauli(key), num_steps, cliff)"
   ]
  },
  {
   "cell_type": "code",
   "execution_count": 27,
   "id": "9ba24fa9",
   "metadata": {},
   "outputs": [],
   "source": [
    "#im_H_ovlp = 0\n",
    "#for key in im_H_circs:\n",
    "#    job = sampler.run(im_H_circs[key])\n",
    "#    results = [_.binary_probabilities() for _ in job.result().quasi_dists]\n",
    "#    temp = 2 * get_p0s(results) - 1\n",
    "#    im_H_ovlp += paulis[key] * temp / np.sqrt(2 ** (2*N))"
   ]
  },
  {
   "cell_type": "code",
   "execution_count": 28,
   "id": "4f731347",
   "metadata": {},
   "outputs": [],
   "source": [
    "#H_ovlp = re_H_ovlp + 1j * im_H_ovlp"
   ]
  },
  {
   "cell_type": "markdown",
   "id": "84529360",
   "metadata": {},
   "source": [
    "## Comparison"
   ]
  },
  {
   "cell_type": "code",
   "execution_count": 29,
   "id": "bb58ecdc",
   "metadata": {},
   "outputs": [],
   "source": [
    "# Create a larger list of circuits to try and reduce the number of calls to ibm\n",
    "# then compare results to above\n",
    "circ_list = re_circ_list + im_circ_list"
   ]
  },
  {
   "cell_type": "code",
   "execution_count": 30,
   "id": "6f55e858",
   "metadata": {},
   "outputs": [],
   "source": [
    "for key in re_H_circs:\n",
    "    circ_list += re_H_circs[key]\n",
    "    circ_list += im_H_circs[key]"
   ]
  },
  {
   "cell_type": "code",
   "execution_count": null,
   "id": "cf472b1e",
   "metadata": {},
   "outputs": [],
   "source": [
    "job = sampler.run(circ_list)\n",
    "results = [_.binary_probabilities() for _ in job.result().quasi_dists]\n",
    "ovlp = 2 * get_p0s(results) - 1"
   ]
  },
  {
   "cell_type": "code",
   "execution_count": null,
   "id": "61dca35e",
   "metadata": {},
   "outputs": [],
   "source": [
    "len(ovlp)"
   ]
  },
  {
   "cell_type": "code",
   "execution_count": null,
   "id": "a202ef35",
   "metadata": {},
   "outputs": [],
   "source": [
    "re_H_circs.keys(), paulis.values()"
   ]
  },
  {
   "cell_type": "code",
   "execution_count": null,
   "id": "b7f14d73",
   "metadata": {},
   "outputs": [],
   "source": [
    "z = []\n",
    "O = []\n",
    "for i in range(num_steps):\n",
    "    z.append(ovlp[i] + 1j*ovlp[i+num_steps])\n",
    "    temp = 0\n",
    "    for j, key in enumerate(re_H_circs):\n",
    "        α = paulis[key]\n",
    "        k = 2*(j + 1)\n",
    "        temp += α * (ovlp[i + k * num_steps] + 1j*ovlp[i + (k+1) * num_steps]) / np.sqrt(2 ** (2*N))\n",
    "    O.append(temp)\n",
    "z = np.array(z)\n",
    "O = np.array(O)"
   ]
  },
  {
   "cell_type": "code",
   "execution_count": null,
   "id": "46770484",
   "metadata": {},
   "outputs": [],
   "source": [
    "plt.figure(1)\n",
    "plt.plot(betas, class_ovlp.real, 'o-', label='Classical')\n",
    "#plt.plot(betas, ovlps.real, 'x-', label='Sampler')\n",
    "plt.plot(betas, z.real, 'x-', label='Sampler 2')\n",
    "plt.xlabel(\"$\\\\beta$\")\n",
    "plt.ylabel(\"Real Ovlp\")\n",
    "plt.legend()\n",
    "\n",
    "plt.figure(2)\n",
    "plt.plot(betas, class_ovlp.imag, 'o-', label='Classical')\n",
    "#plt.plot(betas, ovlps.imag, 'x-', label='Sampler')\n",
    "plt.plot(betas, z.imag, 'x-', label='Sampler 2')\n",
    "plt.xlabel(\"$\\\\beta$\")\n",
    "plt.ylabel(\"Imag Ovlp\")\n",
    "plt.legend()"
   ]
  },
  {
   "cell_type": "code",
   "execution_count": null,
   "id": "34838ac6",
   "metadata": {},
   "outputs": [],
   "source": [
    "plt.figure(1)\n",
    "plt.plot(betas, class_H_ovlp.real, 'o-', label='Classical')\n",
    "#plt.plot(betas, H_ovlp.real, 'x-', label='Sampler')\n",
    "plt.plot(betas, O.real, 'x-', label='Sampler')\n",
    "plt.xlabel(\"$\\\\beta$\")\n",
    "plt.ylabel(\"Real <H>\")\n",
    "plt.legend()\n",
    "\n",
    "plt.figure(2)\n",
    "plt.plot(betas, class_H_ovlp.imag, 'o-', label='Classical')\n",
    "#plt.plot(betas, H_ovlp.imag, 'x-', label='Sampler')\n",
    "plt.plot(betas, O.imag, 'x-', label='Sampler')\n",
    "plt.xlabel(\"$\\\\beta$\")\n",
    "plt.ylabel(\"Imag <H>\")\n",
    "plt.legend()"
   ]
  },
  {
   "cell_type": "code",
   "execution_count": null,
   "id": "76b2c566",
   "metadata": {},
   "outputs": [],
   "source": [
    "# Do partition calculation with both\n",
    "# first plot ground state\n",
    "λ_0 = 1*E[0]\n",
    "plt.plot(betas, E[0]*np.ones(len(betas)), '-.', color=\"#0072B2\")\n",
    "#plt.plot(betas[2::2], stf.alt_partition_calc(ovlps, H_ovlp, num_steps,\n",
    "#                                             λ_0, dt)[1][1:]-λ_0, '--', color=\"#0072B2\",\n",
    "#                label='Expt. U, $\\\\lambda = E_0$')\n",
    "plt.plot(betas[2::2], stf.alt_partition_calc(z, O, num_steps,\n",
    "                                             λ_0, dt)[1][1:]-λ_0, '-', color=\"#0072B2\",\n",
    "        label='$\\\\lambda = ' + str(λ_0) + \"$\")\n",
    "\n",
    "# Now plot the first excited state\n",
    "λ_1 = 1*E[2]\n",
    "plt.plot(betas, E[2]*np.ones(len(betas)), '-.', color=\"#D55E00\")\n",
    "#plt.plot(betas[2::2], stf.alt_partition_calc(ovlps, H_ovlp, num_steps,\n",
    "#                                             λ_1, dt)[1][1:]-λ_1, '--', color=\"#D55E00\",\n",
    "#                label='Expt. U, $\\\\lambda = E_1$')\n",
    "plt.plot(betas[2::2], stf.alt_partition_calc(z, O, num_steps,\n",
    "                                             λ_1, dt)[1][1:]-λ_1, '-', color=\"#D55E00\",\n",
    "        label='$\\\\lambda = ' + str(λ_1) + \"$\")\n",
    "\n",
    "plt.xlabel(\"$\\\\beta$\")\n",
    "plt.ylabel(\"E\")\n",
    "plt.legend()"
   ]
  },
  {
   "cell_type": "code",
   "execution_count": null,
   "id": "814ed0a5",
   "metadata": {},
   "outputs": [],
   "source": []
  }
 ],
 "metadata": {
  "kernelspec": {
   "display_name": "Python 3 (ipykernel)",
   "language": "python",
   "name": "python3"
  },
  "language_info": {
   "codemirror_mode": {
    "name": "ipython",
    "version": 3
   },
   "file_extension": ".py",
   "mimetype": "text/x-python",
   "name": "python",
   "nbconvert_exporter": "python",
   "pygments_lexer": "ipython3",
   "version": "3.9.13"
  }
 },
 "nbformat": 4,
 "nbformat_minor": 5
}
