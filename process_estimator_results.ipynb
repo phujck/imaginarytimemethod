{
 "cells": [
  {
   "cell_type": "code",
   "execution_count": 1,
   "id": "06eda608",
   "metadata": {},
   "outputs": [],
   "source": [
    "import numpy as np\n",
    "from scipy import linalg\n",
    "from scipy.special import binom\n",
    "import matplotlib.pyplot as plt\n",
    "import itertools as it\n",
    "import copy\n",
    "import stomp_functions as stf\n",
    "import time\n",
    "import os\n",
    "import re\n",
    "import matplotlib as mpl\n",
    "from matplotlib.colors import LinearSegmentedColormap, ListedColormap"
   ]
  },
  {
   "cell_type": "code",
   "execution_count": null,
   "id": "50f13edd",
   "metadata": {},
   "outputs": [],
   "source": [
    "class TOLcmaps(object):\n",
    "    \"\"\"\n",
    "    Class TOLcmaps definition.\n",
    "    \"\"\"\n",
    "    def __init__(self):\n",
    "        \"\"\"\n",
    "        \"\"\"\n",
    "        self.cmap = None\n",
    "        self.cname = None\n",
    "        self.namelist = (\n",
    "            'rainbow_PuRd',)\n",
    "\n",
    "        self.funcdict = dict(\n",
    "            zip(self.namelist,\n",
    "                (self.__rainbow_PuRd,\n",
    "                )\n",
    "               )\n",
    "        )\n",
    "        \n",
    "    def __rainbow_PuRd(self):\n",
    "        \"\"\"\n",
    "        Define colormap 'rainbow_PuRd'.\n",
    "        \"\"\"\n",
    "        clrs = ['#6F4C9B', '#6059A9', '#5568B8', '#4E79C5', '#4D8AC6',\n",
    "                '#4E96BC', '#549EB3', '#59A5A9', '#60AB9E', '#69B190',\n",
    "                '#77B77D', '#8CBC68', '#A6BE54', '#BEBC48', '#D1B541',\n",
    "                '#DDAA3C', '#E49C39', '#E78C35', '#E67932', '#E4632D',\n",
    "                '#DF4828', '#DA2222']\n",
    "        self.cmap = LinearSegmentedColormap.from_list(self.cname, clrs)\n",
    "        self.cmap.set_bad('#FFFFFF')\n",
    "        \n",
    "    def get(self, cname='rainbow_PuRd', lut=None):\n",
    "        \"\"\"\n",
    "        Return requested colormap, default is 'rainbow_PuRd'.\n",
    "        \"\"\"\n",
    "        self.cname = cname\n",
    "        if cname == 'rainbow_discrete':\n",
    "            self.__rainbow_discrete(lut)\n",
    "        else:\n",
    "            self.funcdict[cname]()\n",
    "        return self.cmap"
   ]
  },
  {
   "cell_type": "code",
   "execution_count": null,
   "id": "124f26a1",
   "metadata": {},
   "outputs": [],
   "source": [
    "def tol_cmap(colormap=None, lut=None):\n",
    "    \"\"\"\n",
    "    Continuous and discrete color sets for ordered data.\n",
    "    \n",
    "    Return a matplotlib colormap.\n",
    "    Parameter lut is ignored for all colormaps except 'rainbow_discrete'.\n",
    "    \"\"\"\n",
    "    obj = TOLcmaps()\n",
    "    if colormap is None:\n",
    "        return obj.namelist\n",
    "    if colormap not in obj.namelist:\n",
    "        colormap = 'rainbow_PuRd'\n",
    "        print('*** Warning: requested colormap not defined,',\n",
    "              'known colormaps are {}.'.format(obj.namelist),\n",
    "              'Using {}.'.format(colormap))\n",
    "    return obj.get(colormap, lut)"
   ]
  },
  {
   "cell_type": "code",
   "execution_count": 2,
   "id": "ace82421",
   "metadata": {},
   "outputs": [],
   "source": [
    "def create_H(N, g, j):\n",
    "    z_ops, x_ops = stf.construct_op_lists(N)\n",
    "    \n",
    "    # Construct the Hamiltonian\n",
    "    # Loop over sites to construct parts of H\n",
    "    H_qis = 0\n",
    "    for n in range(N-1):\n",
    "        H_qis += -j * z_ops[n] @ z_ops[n+1]\n",
    "        for m in range(N):\n",
    "            H_qis += -j * g * x_ops[n]\n",
    "\n",
    "    return H_qis"
   ]
  },
  {
   "cell_type": "code",
   "execution_count": 3,
   "id": "ca3edcbf",
   "metadata": {},
   "outputs": [],
   "source": [
    "# Set font size of plot elements\n",
    "SMALL_SIZE = 12\n",
    "MEDIUM_SIZE = 14\n",
    "BIGGER_SIZE = 18\n",
    "\n",
    "plt.rc('font', size=SMALL_SIZE)          # controls default text sizes\n",
    "plt.rc('axes', titlesize=SMALL_SIZE)     # fontsize of the axes title\n",
    "plt.rc('axes', labelsize=MEDIUM_SIZE)    # fontsize of the x and y labels\n",
    "plt.rc('xtick', labelsize=SMALL_SIZE)    # fontsize of the tick labels\n",
    "plt.rc('ytick', labelsize=SMALL_SIZE)    # fontsize of the tick labels\n",
    "plt.rc('legend', fontsize=SMALL_SIZE)    # legend fontsize\n",
    "plt.rc('figure', titlesize=BIGGER_SIZE)  # fontsize of the figure title"
   ]
  },
  {
   "cell_type": "code",
   "execution_count": 4,
   "id": "8929489e",
   "metadata": {},
   "outputs": [],
   "source": [
    "# Define Hamiltonian parameters\n",
    "N = 3\n",
    "g = 2\n",
    "j = 1"
   ]
  },
  {
   "cell_type": "code",
   "execution_count": 5,
   "id": "05507be5",
   "metadata": {},
   "outputs": [],
   "source": [
    "# Create the Hamiltonian\n",
    "H = create_H(N, g, j)\n",
    "\n",
    "# Get energy eigenvalues\n",
    "E = linalg.eigvalsh(H.to_matrix())"
   ]
  },
  {
   "cell_type": "code",
   "execution_count": 6,
   "id": "faf8815a",
   "metadata": {},
   "outputs": [],
   "source": [
    "# Define filenames for reading data\n",
    "ovlp_file = \"estimator_ovlp_N=3_ibm_brisbane_b=1_numsteps=100.npz\"\n",
    "H_ovlp_file = \"estimator_H_ovlp_N=3_ibm_brisbane_b=1_numsteps=100.npz\""
   ]
  },
  {
   "cell_type": "code",
   "execution_count": 7,
   "id": "3d745090",
   "metadata": {},
   "outputs": [],
   "source": [
    "# Load in data\n",
    "ovlp_data = np.load(ovlp_file, allow_pickle=True)\n",
    "H_ovlp_data = np.load(H_ovlp_file, allow_pickle=True)"
   ]
  },
  {
   "cell_type": "code",
   "execution_count": 8,
   "id": "1b2066a4",
   "metadata": {},
   "outputs": [],
   "source": [
    "# Get beta value and numsteps from filename\n",
    "τ = float(re.search(r'b=\\d', ovlp_file).group(0)[2:])\n",
    "num_steps = int(re.search(r'numsteps=\\d+', ovlp_file).group(0)[9:])\n",
    "τs, dτ = np.linspace(0, τ, num_steps, retstep=True)"
   ]
  },
  {
   "cell_type": "code",
   "execution_count": 9,
   "id": "81dd8ea4",
   "metadata": {},
   "outputs": [],
   "source": [
    "z = ovlp_data['12661']\n",
    "O = H_ovlp_data['12661']"
   ]
  },
  {
   "cell_type": "code",
   "execution_count": 10,
   "id": "943293e3",
   "metadata": {},
   "outputs": [],
   "source": [
    "calc_E = {}\n",
    "for λ in E:\n",
    "    calc_E[λ] = stf.alt_partition_calc(z, O, num_steps, λ, dτ)[1][1:] - λ"
   ]
  },
  {
   "cell_type": "code",
   "execution_count": 13,
   "id": "8c68e413",
   "metadata": {},
   "outputs": [
    {
     "data": {
      "text/plain": [
       "<matplotlib.legend.Legend at 0x7f731cdb1610>"
      ]
     },
     "execution_count": 13,
     "metadata": {},
     "output_type": "execute_result"
    },
    {
     "data": {
      "image/png": "[encoded data removed]",
      "text/plain": [
       "<Figure size 640x480 with 1 Axes>"
      ]
     },
     "metadata": {},
     "output_type": "display_data"
    }
   ],
   "source": [
    "colors = tol_cmap('rainbow_PuRd').resampled(len(list(calc_E.values())))\n",
    "for i, λ in enumerate(E[::2]):\n",
    "    plt.plot(τs[2::2], calc_E[λ], color=colors[i])\n",
    "    plt.plot(τs[2::2], λ * np.ones(τs[2::2].shape[0]), '.-',\n",
    "             color=colors(i), label='$E_'+str(i)+'$')\n",
    "plt.xlabel(\"$\\\\tau$\")\n",
    "plt.ylabel(\"E\")\n",
    "plt.ylim([-20, 20])\n",
    "plt.legend()"
   ]
  },
  {
   "cell_type": "code",
   "execution_count": null,
   "id": "2bcb9d97",
   "metadata": {},
   "outputs": [],
   "source": []
  }
 ],
 "metadata": {
  "kernelspec": {
   "display_name": "Python 3 (ipykernel)",
   "language": "python",
   "name": "python3"
  },
  "language_info": {
   "codemirror_mode": {
    "name": "ipython",
    "version": 3
   },
   "file_extension": ".py",
   "mimetype": "text/x-python",
   "name": "python",
   "nbconvert_exporter": "python",
   "pygments_lexer": "ipython3",
   "version": "3.9.13"
  }
 },
 "nbformat": 4,
 "nbformat_minor": 5
}
